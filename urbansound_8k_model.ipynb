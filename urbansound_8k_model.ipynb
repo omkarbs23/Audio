{
 "cells": [
  {
   "cell_type": "code",
   "execution_count": 1,
   "id": "ae88c35f",
   "metadata": {},
   "outputs": [],
   "source": [
    "import pandas as pd\n",
    "import joblib\n",
    "import numpy as np"
   ]
  },
  {
   "cell_type": "markdown",
   "id": "ae6eda98",
   "metadata": {},
   "source": [
    "# Loading data"
   ]
  },
  {
   "cell_type": "code",
   "execution_count": 2,
   "id": "2d6dc346",
   "metadata": {},
   "outputs": [
    {
     "data": {
      "text/plain": [
       "(8732, 40)"
      ]
     },
     "execution_count": 2,
     "metadata": {},
     "output_type": "execute_result"
    }
   ],
   "source": [
    "X = joblib.load(\"Inputs\")\n",
    "X.shape"
   ]
  },
  {
   "cell_type": "code",
   "execution_count": 3,
   "id": "e29d3bc5",
   "metadata": {},
   "outputs": [
    {
     "data": {
      "text/plain": [
       "(8732,)"
      ]
     },
     "execution_count": 3,
     "metadata": {},
     "output_type": "execute_result"
    }
   ],
   "source": [
    "Y = joblib.load(\"Outputs\")\n",
    "Y.shape"
   ]
  },
  {
   "cell_type": "markdown",
   "id": "29f4e692",
   "metadata": {},
   "source": [
    "# Encoding data"
   ]
  },
  {
   "cell_type": "code",
   "execution_count": 4,
   "id": "849aca42",
   "metadata": {},
   "outputs": [],
   "source": [
    "from sklearn.preprocessing import LabelEncoder\n",
    "LE = LabelEncoder()"
   ]
  },
  {
   "cell_type": "code",
   "execution_count": 5,
   "id": "34f8d852",
   "metadata": {},
   "outputs": [
    {
     "data": {
      "text/plain": [
       "array([3, 2, 2, ..., 1, 1, 1], dtype=int64)"
      ]
     },
     "execution_count": 5,
     "metadata": {},
     "output_type": "execute_result"
    }
   ],
   "source": [
    "Y = LE.fit_transform(Y)\n",
    "Y"
   ]
  },
  {
   "cell_type": "markdown",
   "id": "4407dcab",
   "metadata": {},
   "source": [
    "# Splitting  data"
   ]
  },
  {
   "cell_type": "code",
   "execution_count": 6,
   "id": "35a4a933",
   "metadata": {},
   "outputs": [],
   "source": [
    "from sklearn.model_selection import train_test_split\n",
    "X_train, X_test, Y_train, Y_test = train_test_split(X, Y, test_size=0.2, random_state=2)\n",
    "X_train, X_val, Y_train, Y_val = train_test_split(X_train, Y_train, test_size=0.1, random_state=2)"
   ]
  },
  {
   "cell_type": "code",
   "execution_count": 7,
   "id": "4513152a",
   "metadata": {},
   "outputs": [
    {
     "data": {
      "text/plain": [
       "(6286, 40)"
      ]
     },
     "execution_count": 7,
     "metadata": {},
     "output_type": "execute_result"
    }
   ],
   "source": [
    "X_train.shape"
   ]
  },
  {
   "cell_type": "markdown",
   "id": "99fea6e0",
   "metadata": {},
   "source": [
    "# Model Building"
   ]
  },
  {
   "cell_type": "code",
   "execution_count": 8,
   "id": "750195ea",
   "metadata": {},
   "outputs": [],
   "source": [
    "from tensorflow.keras.models import Sequential\n",
    "from tensorflow.keras.layers import Dense,Dropout,Activation\n",
    "from tensorflow.keras.callbacks import EarlyStopping"
   ]
  },
  {
   "cell_type": "code",
   "execution_count": 9,
   "id": "595f57d3",
   "metadata": {},
   "outputs": [],
   "source": [
    "model=Sequential()\n",
    "\n",
    "###first layer\n",
    "model.add(Dense(256,input_shape=(40,)))\n",
    "model.add(Activation('relu'))\n",
    "model.add(Dropout(0.5))\n",
    "\n",
    "###second layer\n",
    "model.add(Dense(128))\n",
    "model.add(Activation('relu'))\n",
    "model.add(Dropout(0.4))\n",
    "\n",
    "###third layer\n",
    "model.add(Dense(64))\n",
    "model.add(Activation('relu'))\n",
    "model.add(Dropout(0.3))\n",
    "\n",
    "###final layer\n",
    "model.add(Dense(len(set(Y))))\n",
    "model.add(Activation('softmax'))"
   ]
  },
  {
   "cell_type": "code",
   "execution_count": 10,
   "id": "2d0a8caa",
   "metadata": {},
   "outputs": [
    {
     "name": "stdout",
     "output_type": "stream",
     "text": [
      "Model: \"sequential\"\n",
      "_________________________________________________________________\n",
      " Layer (type)                Output Shape              Param #   \n",
      "=================================================================\n",
      " dense (Dense)               (None, 256)               10496     \n",
      "                                                                 \n",
      " activation (Activation)     (None, 256)               0         \n",
      "                                                                 \n",
      " dropout (Dropout)           (None, 256)               0         \n",
      "                                                                 \n",
      " dense_1 (Dense)             (None, 128)               32896     \n",
      "                                                                 \n",
      " activation_1 (Activation)   (None, 128)               0         \n",
      "                                                                 \n",
      " dropout_1 (Dropout)         (None, 128)               0         \n",
      "                                                                 \n",
      " dense_2 (Dense)             (None, 64)                8256      \n",
      "                                                                 \n",
      " activation_2 (Activation)   (None, 64)                0         \n",
      "                                                                 \n",
      " dropout_2 (Dropout)         (None, 64)                0         \n",
      "                                                                 \n",
      " dense_3 (Dense)             (None, 10)                650       \n",
      "                                                                 \n",
      " activation_3 (Activation)   (None, 10)                0         \n",
      "                                                                 \n",
      "=================================================================\n",
      "Total params: 52,298\n",
      "Trainable params: 52,298\n",
      "Non-trainable params: 0\n",
      "_________________________________________________________________\n"
     ]
    }
   ],
   "source": [
    "model.summary()"
   ]
  },
  {
   "cell_type": "code",
   "execution_count": 11,
   "id": "9da9a2c7",
   "metadata": {},
   "outputs": [],
   "source": [
    "# compiling the model\n",
    "model.compile(loss='sparse_categorical_crossentropy',metrics=['accuracy'],optimizer='adam')"
   ]
  },
  {
   "cell_type": "code",
   "execution_count": 12,
   "id": "b5be810d",
   "metadata": {},
   "outputs": [],
   "source": [
    "# EarlyStopping to save compute resources\n",
    "ES = EarlyStopping(monitor='val_loss',mode='min',patience=8)"
   ]
  },
  {
   "cell_type": "code",
   "execution_count": 13,
   "id": "07a9d735",
   "metadata": {
    "scrolled": true
   },
   "outputs": [
    {
     "name": "stdout",
     "output_type": "stream",
     "text": [
      "Epoch 1/200\n",
      "197/197 [==============================] - 1s 3ms/step - loss: 7.1583 - accuracy: 0.1269 - val_loss: 2.2584 - val_accuracy: 0.1617\n",
      "Epoch 2/200\n",
      "197/197 [==============================] - 0s 2ms/step - loss: 2.4731 - accuracy: 0.1492 - val_loss: 2.2359 - val_accuracy: 0.1803\n",
      "Epoch 3/200\n",
      "197/197 [==============================] - 0s 2ms/step - loss: 2.2477 - accuracy: 0.1806 - val_loss: 2.0936 - val_accuracy: 0.2589\n",
      "Epoch 4/200\n",
      "197/197 [==============================] - 0s 2ms/step - loss: 2.1362 - accuracy: 0.2043 - val_loss: 1.9843 - val_accuracy: 0.2532\n",
      "Epoch 5/200\n",
      "197/197 [==============================] - 0s 2ms/step - loss: 2.0437 - accuracy: 0.2485 - val_loss: 1.9425 - val_accuracy: 0.2876\n",
      "Epoch 6/200\n",
      "197/197 [==============================] - 0s 2ms/step - loss: 1.9789 - accuracy: 0.2704 - val_loss: 1.8452 - val_accuracy: 0.3534\n",
      "Epoch 7/200\n",
      "197/197 [==============================] - 0s 2ms/step - loss: 1.8958 - accuracy: 0.2911 - val_loss: 1.7194 - val_accuracy: 0.4192\n",
      "Epoch 8/200\n",
      "197/197 [==============================] - 0s 2ms/step - loss: 1.7980 - accuracy: 0.3474 - val_loss: 1.6405 - val_accuracy: 0.4320\n",
      "Epoch 9/200\n",
      "197/197 [==============================] - 0s 2ms/step - loss: 1.7376 - accuracy: 0.3785 - val_loss: 1.5639 - val_accuracy: 0.4793\n",
      "Epoch 10/200\n",
      "197/197 [==============================] - 0s 2ms/step - loss: 1.6811 - accuracy: 0.3968 - val_loss: 1.4992 - val_accuracy: 0.4778\n",
      "Epoch 11/200\n",
      "197/197 [==============================] - 0s 2ms/step - loss: 1.6234 - accuracy: 0.4236 - val_loss: 1.4518 - val_accuracy: 0.5107\n",
      "Epoch 12/200\n",
      "197/197 [==============================] - 0s 2ms/step - loss: 1.5752 - accuracy: 0.4480 - val_loss: 1.4154 - val_accuracy: 0.5422\n",
      "Epoch 13/200\n",
      "197/197 [==============================] - 0s 2ms/step - loss: 1.5342 - accuracy: 0.4605 - val_loss: 1.3458 - val_accuracy: 0.5608\n",
      "Epoch 14/200\n",
      "197/197 [==============================] - 0s 2ms/step - loss: 1.4596 - accuracy: 0.4952 - val_loss: 1.3241 - val_accuracy: 0.5622\n",
      "Epoch 15/200\n",
      "197/197 [==============================] - 0s 2ms/step - loss: 1.4353 - accuracy: 0.4994 - val_loss: 1.2663 - val_accuracy: 0.5851\n",
      "Epoch 16/200\n",
      "197/197 [==============================] - 0s 2ms/step - loss: 1.3810 - accuracy: 0.5212 - val_loss: 1.2618 - val_accuracy: 0.5908\n",
      "Epoch 17/200\n",
      "197/197 [==============================] - 1s 3ms/step - loss: 1.3150 - accuracy: 0.5514 - val_loss: 1.1872 - val_accuracy: 0.6023\n",
      "Epoch 18/200\n",
      "197/197 [==============================] - 0s 2ms/step - loss: 1.3093 - accuracy: 0.5555 - val_loss: 1.1804 - val_accuracy: 0.6223\n",
      "Epoch 19/200\n",
      "197/197 [==============================] - 0s 2ms/step - loss: 1.2876 - accuracy: 0.5635 - val_loss: 1.1272 - val_accuracy: 0.6323\n",
      "Epoch 20/200\n",
      "197/197 [==============================] - 0s 2ms/step - loss: 1.2256 - accuracy: 0.5791 - val_loss: 1.0664 - val_accuracy: 0.6624\n",
      "Epoch 21/200\n",
      "197/197 [==============================] - 0s 2ms/step - loss: 1.2104 - accuracy: 0.5926 - val_loss: 1.0440 - val_accuracy: 0.6738\n",
      "Epoch 22/200\n",
      "197/197 [==============================] - 0s 2ms/step - loss: 1.1745 - accuracy: 0.6024 - val_loss: 1.0370 - val_accuracy: 0.6710\n",
      "Epoch 23/200\n",
      "197/197 [==============================] - 0s 2ms/step - loss: 1.1482 - accuracy: 0.6158 - val_loss: 1.0061 - val_accuracy: 0.6552\n",
      "Epoch 24/200\n",
      "197/197 [==============================] - 0s 2ms/step - loss: 1.1351 - accuracy: 0.6123 - val_loss: 0.9597 - val_accuracy: 0.6738\n",
      "Epoch 25/200\n",
      "197/197 [==============================] - 0s 2ms/step - loss: 1.1034 - accuracy: 0.6284 - val_loss: 0.9241 - val_accuracy: 0.6981\n",
      "Epoch 26/200\n",
      "197/197 [==============================] - 0s 2ms/step - loss: 1.0880 - accuracy: 0.6363 - val_loss: 0.9061 - val_accuracy: 0.7024\n",
      "Epoch 27/200\n",
      "197/197 [==============================] - 0s 2ms/step - loss: 1.0538 - accuracy: 0.6448 - val_loss: 0.9013 - val_accuracy: 0.6924\n",
      "Epoch 28/200\n",
      "197/197 [==============================] - 0s 2ms/step - loss: 1.0469 - accuracy: 0.6511 - val_loss: 0.8920 - val_accuracy: 0.6881\n",
      "Epoch 29/200\n",
      "197/197 [==============================] - 0s 2ms/step - loss: 1.0220 - accuracy: 0.6542 - val_loss: 0.8424 - val_accuracy: 0.7139\n",
      "Epoch 30/200\n",
      "197/197 [==============================] - 0s 2ms/step - loss: 0.9774 - accuracy: 0.6693 - val_loss: 0.8347 - val_accuracy: 0.7182\n",
      "Epoch 31/200\n",
      "197/197 [==============================] - 0s 2ms/step - loss: 0.9729 - accuracy: 0.6701 - val_loss: 0.8231 - val_accuracy: 0.7096\n",
      "Epoch 32/200\n",
      "197/197 [==============================] - 0s 2ms/step - loss: 0.9573 - accuracy: 0.6726 - val_loss: 0.8278 - val_accuracy: 0.7239\n",
      "Epoch 33/200\n",
      "197/197 [==============================] - 0s 2ms/step - loss: 0.9477 - accuracy: 0.6822 - val_loss: 0.8043 - val_accuracy: 0.7439\n",
      "Epoch 34/200\n",
      "197/197 [==============================] - 0s 2ms/step - loss: 0.9330 - accuracy: 0.6863 - val_loss: 0.7922 - val_accuracy: 0.7253\n",
      "Epoch 35/200\n",
      "197/197 [==============================] - 0s 2ms/step - loss: 0.9394 - accuracy: 0.6826 - val_loss: 0.7954 - val_accuracy: 0.7325\n",
      "Epoch 36/200\n",
      "197/197 [==============================] - 0s 2ms/step - loss: 0.9138 - accuracy: 0.6887 - val_loss: 0.7335 - val_accuracy: 0.7525\n",
      "Epoch 37/200\n",
      "197/197 [==============================] - 0s 2ms/step - loss: 0.9057 - accuracy: 0.6968 - val_loss: 0.7455 - val_accuracy: 0.7582\n",
      "Epoch 38/200\n",
      "197/197 [==============================] - 0s 2ms/step - loss: 0.8792 - accuracy: 0.7006 - val_loss: 0.7036 - val_accuracy: 0.7711\n",
      "Epoch 39/200\n",
      "197/197 [==============================] - 0s 2ms/step - loss: 0.8745 - accuracy: 0.7022 - val_loss: 0.7044 - val_accuracy: 0.7797\n",
      "Epoch 40/200\n",
      "197/197 [==============================] - 0s 2ms/step - loss: 0.8462 - accuracy: 0.7192 - val_loss: 0.6870 - val_accuracy: 0.7811\n",
      "Epoch 41/200\n",
      "197/197 [==============================] - 0s 2ms/step - loss: 0.8445 - accuracy: 0.7159 - val_loss: 0.6993 - val_accuracy: 0.7797\n",
      "Epoch 42/200\n",
      "197/197 [==============================] - 0s 2ms/step - loss: 0.8446 - accuracy: 0.7192 - val_loss: 0.6691 - val_accuracy: 0.8083\n",
      "Epoch 43/200\n",
      "197/197 [==============================] - 0s 2ms/step - loss: 0.8256 - accuracy: 0.7203 - val_loss: 0.6558 - val_accuracy: 0.7854\n",
      "Epoch 44/200\n",
      "197/197 [==============================] - 0s 2ms/step - loss: 0.8145 - accuracy: 0.7184 - val_loss: 0.6543 - val_accuracy: 0.7897\n",
      "Epoch 45/200\n",
      "197/197 [==============================] - 0s 2ms/step - loss: 0.8104 - accuracy: 0.7327 - val_loss: 0.6678 - val_accuracy: 0.7697\n",
      "Epoch 46/200\n",
      "197/197 [==============================] - 0s 2ms/step - loss: 0.8109 - accuracy: 0.7294 - val_loss: 0.6650 - val_accuracy: 0.8026\n",
      "Epoch 47/200\n",
      "197/197 [==============================] - 0s 2ms/step - loss: 0.7863 - accuracy: 0.7394 - val_loss: 0.6611 - val_accuracy: 0.7883\n",
      "Epoch 48/200\n",
      "197/197 [==============================] - 0s 2ms/step - loss: 0.7908 - accuracy: 0.7342 - val_loss: 0.6249 - val_accuracy: 0.7883\n",
      "Epoch 49/200\n",
      "197/197 [==============================] - 0s 2ms/step - loss: 0.7675 - accuracy: 0.7413 - val_loss: 0.6082 - val_accuracy: 0.7954\n",
      "Epoch 50/200\n",
      "197/197 [==============================] - 0s 2ms/step - loss: 0.7546 - accuracy: 0.7479 - val_loss: 0.6004 - val_accuracy: 0.8026\n",
      "Epoch 51/200\n",
      "197/197 [==============================] - 0s 2ms/step - loss: 0.7565 - accuracy: 0.7420 - val_loss: 0.6237 - val_accuracy: 0.7926\n",
      "Epoch 52/200\n",
      "197/197 [==============================] - 0s 2ms/step - loss: 0.7505 - accuracy: 0.7523 - val_loss: 0.5963 - val_accuracy: 0.8011\n",
      "Epoch 53/200\n",
      "197/197 [==============================] - 1s 3ms/step - loss: 0.7447 - accuracy: 0.7456 - val_loss: 0.6049 - val_accuracy: 0.7825\n",
      "Epoch 54/200\n",
      "197/197 [==============================] - 1s 3ms/step - loss: 0.7505 - accuracy: 0.7479 - val_loss: 0.5874 - val_accuracy: 0.8197\n",
      "Epoch 55/200\n",
      "197/197 [==============================] - 1s 3ms/step - loss: 0.7269 - accuracy: 0.7547 - val_loss: 0.5750 - val_accuracy: 0.8126\n",
      "Epoch 56/200\n",
      "197/197 [==============================] - 0s 2ms/step - loss: 0.7431 - accuracy: 0.7558 - val_loss: 0.5981 - val_accuracy: 0.8011\n",
      "Epoch 57/200\n",
      "197/197 [==============================] - 0s 2ms/step - loss: 0.7342 - accuracy: 0.7582 - val_loss: 0.5769 - val_accuracy: 0.8069\n"
     ]
    },
    {
     "name": "stdout",
     "output_type": "stream",
     "text": [
      "Epoch 58/200\n",
      "197/197 [==============================] - 0s 2ms/step - loss: 0.7313 - accuracy: 0.7549 - val_loss: 0.5847 - val_accuracy: 0.7997\n",
      "Epoch 59/200\n",
      "197/197 [==============================] - 0s 2ms/step - loss: 0.7277 - accuracy: 0.7585 - val_loss: 0.5690 - val_accuracy: 0.8269\n",
      "Epoch 60/200\n",
      "197/197 [==============================] - 0s 2ms/step - loss: 0.7095 - accuracy: 0.7588 - val_loss: 0.5595 - val_accuracy: 0.8140\n",
      "Epoch 61/200\n",
      "197/197 [==============================] - 0s 2ms/step - loss: 0.7085 - accuracy: 0.7588 - val_loss: 0.5717 - val_accuracy: 0.8155\n",
      "Epoch 62/200\n",
      "197/197 [==============================] - 0s 2ms/step - loss: 0.7140 - accuracy: 0.7593 - val_loss: 0.5477 - val_accuracy: 0.8083\n",
      "Epoch 63/200\n",
      "197/197 [==============================] - 0s 2ms/step - loss: 0.7032 - accuracy: 0.7660 - val_loss: 0.5537 - val_accuracy: 0.8197\n",
      "Epoch 64/200\n",
      "197/197 [==============================] - 0s 2ms/step - loss: 0.6973 - accuracy: 0.7689 - val_loss: 0.5464 - val_accuracy: 0.8298\n",
      "Epoch 65/200\n",
      "197/197 [==============================] - 0s 2ms/step - loss: 0.6805 - accuracy: 0.7668 - val_loss: 0.5307 - val_accuracy: 0.8398\n",
      "Epoch 66/200\n",
      "197/197 [==============================] - 0s 2ms/step - loss: 0.6766 - accuracy: 0.7747 - val_loss: 0.5792 - val_accuracy: 0.8083\n",
      "Epoch 67/200\n",
      "197/197 [==============================] - 0s 2ms/step - loss: 0.7141 - accuracy: 0.7601 - val_loss: 0.5444 - val_accuracy: 0.8441\n",
      "Epoch 68/200\n",
      "197/197 [==============================] - 0s 2ms/step - loss: 0.6756 - accuracy: 0.7744 - val_loss: 0.4991 - val_accuracy: 0.8269\n",
      "Epoch 69/200\n",
      "197/197 [==============================] - 0s 2ms/step - loss: 0.6843 - accuracy: 0.7735 - val_loss: 0.5454 - val_accuracy: 0.8255\n",
      "Epoch 70/200\n",
      "197/197 [==============================] - 0s 2ms/step - loss: 0.6897 - accuracy: 0.7735 - val_loss: 0.5291 - val_accuracy: 0.8369\n",
      "Epoch 71/200\n",
      "197/197 [==============================] - 0s 2ms/step - loss: 0.6658 - accuracy: 0.7787 - val_loss: 0.5067 - val_accuracy: 0.8240\n",
      "Epoch 72/200\n",
      "197/197 [==============================] - 0s 2ms/step - loss: 0.6756 - accuracy: 0.7733 - val_loss: 0.5002 - val_accuracy: 0.8455\n",
      "Epoch 73/200\n",
      "197/197 [==============================] - 0s 2ms/step - loss: 0.6691 - accuracy: 0.7727 - val_loss: 0.4911 - val_accuracy: 0.8512\n",
      "Epoch 74/200\n",
      "197/197 [==============================] - 0s 2ms/step - loss: 0.6665 - accuracy: 0.7787 - val_loss: 0.5297 - val_accuracy: 0.8226\n",
      "Epoch 75/200\n",
      "197/197 [==============================] - 0s 2ms/step - loss: 0.6435 - accuracy: 0.7843 - val_loss: 0.5096 - val_accuracy: 0.8355\n",
      "Epoch 76/200\n",
      "197/197 [==============================] - 0s 2ms/step - loss: 0.6707 - accuracy: 0.7781 - val_loss: 0.5105 - val_accuracy: 0.8484\n",
      "Epoch 77/200\n",
      "197/197 [==============================] - 0s 2ms/step - loss: 0.6164 - accuracy: 0.7916 - val_loss: 0.5008 - val_accuracy: 0.8355\n",
      "Epoch 78/200\n",
      "197/197 [==============================] - 0s 2ms/step - loss: 0.6473 - accuracy: 0.7870 - val_loss: 0.5099 - val_accuracy: 0.8340\n",
      "Epoch 79/200\n",
      "197/197 [==============================] - 0s 2ms/step - loss: 0.6720 - accuracy: 0.7808 - val_loss: 0.4993 - val_accuracy: 0.8426\n",
      "Epoch 80/200\n",
      "197/197 [==============================] - 0s 2ms/step - loss: 0.6346 - accuracy: 0.7921 - val_loss: 0.5083 - val_accuracy: 0.8383\n",
      "Epoch 81/200\n",
      "197/197 [==============================] - 0s 2ms/step - loss: 0.6246 - accuracy: 0.7886 - val_loss: 0.5052 - val_accuracy: 0.8255\n"
     ]
    },
    {
     "data": {
      "text/plain": [
       "<keras.callbacks.History at 0x2dff8b83940>"
      ]
     },
     "execution_count": 13,
     "metadata": {},
     "output_type": "execute_result"
    }
   ],
   "source": [
    "# fitting the model\n",
    "model.fit(X_train, Y_train, batch_size = 32, epochs = 200, validation_data=(X_val,Y_val), callbacks=ES)"
   ]
  },
  {
   "cell_type": "markdown",
   "id": "da81e722",
   "metadata": {},
   "source": [
    "# Evaluation"
   ]
  },
  {
   "cell_type": "code",
   "execution_count": 14,
   "id": "fcd136f1",
   "metadata": {},
   "outputs": [
    {
     "name": "stdout",
     "output_type": "stream",
     "text": [
      "0.8277046084403992\n"
     ]
    }
   ],
   "source": [
    "test_accuracy=model.evaluate(X_test,Y_test,verbose=0)\n",
    "print(test_accuracy[1])"
   ]
  },
  {
   "cell_type": "code",
   "execution_count": 15,
   "id": "6693706b",
   "metadata": {},
   "outputs": [
    {
     "name": "stdout",
     "output_type": "stream",
     "text": [
      "55/55 [==============================] - 0s 1ms/step\n"
     ]
    }
   ],
   "source": [
    "Y_pred = model.predict(X_test)\n",
    "Y_pred_argmax = np.argmax(Y_pred, axis=1)\n"
   ]
  },
  {
   "cell_type": "code",
   "execution_count": 16,
   "id": "600edf52",
   "metadata": {
    "scrolled": true
   },
   "outputs": [
    {
     "name": "stdout",
     "output_type": "stream",
     "text": [
      "              precision    recall  f1-score   support\n",
      "\n",
      "           0       0.77      0.93      0.84       203\n",
      "           1       0.96      0.82      0.88        89\n",
      "           2       0.59      0.80      0.67       176\n",
      "           3       0.93      0.69      0.79       241\n",
      "           4       0.93      0.83      0.88       206\n",
      "           5       0.94      0.88      0.91       227\n",
      "           6       0.79      0.56      0.66        82\n",
      "           7       0.88      0.97      0.92       189\n",
      "           8       0.91      0.92      0.91       168\n",
      "           9       0.70      0.75      0.72       166\n",
      "\n",
      "    accuracy                           0.83      1747\n",
      "   macro avg       0.84      0.81      0.82      1747\n",
      "weighted avg       0.84      0.83      0.83      1747\n",
      "\n"
     ]
    }
   ],
   "source": [
    "from sklearn.metrics import classification_report\n",
    "print(classification_report(Y_test,Y_pred_argmax))"
   ]
  },
  {
   "cell_type": "markdown",
   "id": "4eec6056",
   "metadata": {},
   "source": [
    "# Dumping Model"
   ]
  },
  {
   "cell_type": "code",
   "execution_count": 17,
   "id": "f0b5bb18",
   "metadata": {
    "collapsed": true
   },
   "outputs": [
    {
     "name": "stdout",
     "output_type": "stream",
     "text": [
      "Keras weights file (<HDF5 file \"variables.h5\" (mode r+)>) saving:\n",
      "...layers\\activation\n",
      "......vars\n",
      "...layers\\activation_1\n",
      "......vars\n",
      "...layers\\activation_2\n",
      "......vars\n",
      "...layers\\activation_3\n",
      "......vars\n",
      "...layers\\dense\n",
      "......vars\n",
      ".........0\n",
      ".........1\n",
      "...layers\\dense_1\n",
      "......vars\n",
      ".........0\n",
      ".........1\n",
      "...layers\\dense_2\n",
      "......vars\n",
      ".........0\n",
      ".........1\n",
      "...layers\\dense_3\n",
      "......vars\n",
      ".........0\n",
      ".........1\n",
      "...layers\\dropout\n",
      "......vars\n",
      "...layers\\dropout_1\n",
      "......vars\n",
      "...layers\\dropout_2\n",
      "......vars\n",
      "...metrics\\mean\n",
      "......vars\n",
      ".........0\n",
      ".........1\n",
      "...metrics\\mean_metric_wrapper\n",
      "......vars\n",
      ".........0\n",
      ".........1\n",
      "...optimizer\n",
      "......vars\n",
      ".........0\n",
      ".........1\n",
      ".........10\n",
      ".........11\n",
      ".........12\n",
      ".........13\n",
      ".........14\n",
      ".........15\n",
      ".........16\n",
      ".........2\n",
      ".........3\n",
      ".........4\n",
      ".........5\n",
      ".........6\n",
      ".........7\n",
      ".........8\n",
      ".........9\n",
      "...vars\n",
      "Keras model archive saving:\n",
      "File Name                                             Modified             Size\n",
      "config.json                                    2023-08-03 18:12:57         3216\n",
      "metadata.json                                  2023-08-03 18:12:57           64\n",
      "variables.h5                                   2023-08-03 18:12:57       667040\n"
     ]
    },
    {
     "data": {
      "text/plain": [
       "['model_85acc']"
      ]
     },
     "execution_count": 17,
     "metadata": {},
     "output_type": "execute_result"
    }
   ],
   "source": [
    "joblib.dump(model,\"model_85acc\")"
   ]
  },
  {
   "cell_type": "markdown",
   "id": "a9b26646",
   "metadata": {},
   "source": [
    "# Testing"
   ]
  },
  {
   "cell_type": "code",
   "execution_count": 18,
   "id": "fe2c1848",
   "metadata": {},
   "outputs": [],
   "source": [
    "import librosa\n",
    "def get_features(file_name):\n",
    "    try:\n",
    "        audio, sample_rate = librosa.load(file_name, res_type='kaiser_fast') \n",
    "        mfccs = librosa.feature.mfcc(y=audio, sr=sample_rate, n_mfcc=40)\n",
    "        mfccsscaled = np.mean(mfccs.T,axis=0)\n",
    "        \n",
    "    except Exception as e:\n",
    "        print(\"Error encountered while parsing file: \", file_name)\n",
    "        return None \n",
    "     \n",
    "    return mfccsscaled"
   ]
  },
  {
   "cell_type": "code",
   "execution_count": 19,
   "id": "093f3770",
   "metadata": {},
   "outputs": [],
   "source": [
    "def get_my_predictions(filename):\n",
    "    prediction_feature=get_features(filename)\n",
    "    prediction_feature=prediction_feature.reshape(1,-1)\n",
    "    op = model.predict(prediction_feature)\n",
    "    return LE.inverse_transform([np.argmax(op)])"
   ]
  },
  {
   "cell_type": "code",
   "execution_count": 20,
   "id": "61d71273",
   "metadata": {
    "scrolled": true
   },
   "outputs": [
    {
     "data": {
      "text/plain": [
       "0     air_conditioner\n",
       "1            car_horn\n",
       "2    children_playing\n",
       "3            dog_bark\n",
       "4            drilling\n",
       "5       engine_idling\n",
       "6            gun_shot\n",
       "7          jackhammer\n",
       "8               siren\n",
       "9        street_music\n",
       "dtype: object"
      ]
     },
     "execution_count": 20,
     "metadata": {},
     "output_type": "execute_result"
    }
   ],
   "source": [
    "pd.Series(LE.classes_)"
   ]
  },
  {
   "cell_type": "code",
   "execution_count": 29,
   "id": "844d49ae",
   "metadata": {},
   "outputs": [
    {
     "name": "stdout",
     "output_type": "stream",
     "text": [
      "1/1 [==============================] - 0s 16ms/step\n",
      "['dog_bark']\n",
      "1/1 [==============================] - 0s 16ms/step\n",
      "['children_playing']\n"
     ]
    }
   ],
   "source": [
    "# Dog Bark\n",
    "print(get_my_predictions(r\"C:\\Users\\Admin\\Downloads\\dog-barking-70772.mp3\"))\n",
    "print(get_my_predictions(r\"C:\\Users\\Admin\\Downloads\\barking-156375.mp3\"))"
   ]
  },
  {
   "cell_type": "code",
   "execution_count": 30,
   "id": "af93d1ff",
   "metadata": {},
   "outputs": [
    {
     "name": "stdout",
     "output_type": "stream",
     "text": [
      "1/1 [==============================] - 0s 16ms/step\n",
      "['jackhammer']\n",
      "1/1 [==============================] - 0s 17ms/step\n",
      "['street_music']\n"
     ]
    }
   ],
   "source": [
    "# Jackhammer\n",
    "print(get_my_predictions(r\"C:\\Users\\Admin\\Downloads\\construction_site-19522.mp3\"))\n",
    "print(get_my_predictions(r\"C:\\Users\\Admin\\Downloads\\jackhammer-01-62270.mp3\"))"
   ]
  },
  {
   "cell_type": "code",
   "execution_count": 31,
   "id": "486981c7",
   "metadata": {},
   "outputs": [
    {
     "name": "stdout",
     "output_type": "stream",
     "text": [
      "1/1 [==============================] - 0s 17ms/step\n",
      "['children_playing']\n",
      "1/1 [==============================] - 0s 17ms/step\n",
      "['car_horn']\n"
     ]
    }
   ],
   "source": [
    "# carhorn\n",
    "print(get_my_predictions(r\"C:\\Users\\Admin\\Downloads\\car-horn-6408.mp3\"))\n",
    "print(get_my_predictions(r\"C:\\Users\\Admin\\Downloads\\car-horn-beep-beep-two-beeps-honk-honk-6188.mp3\"))"
   ]
  },
  {
   "cell_type": "code",
   "execution_count": null,
   "id": "5d39f078",
   "metadata": {},
   "outputs": [],
   "source": []
  }
 ],
 "metadata": {
  "kernelspec": {
   "display_name": "Python 3 (ipykernel)",
   "language": "python",
   "name": "python3"
  },
  "language_info": {
   "codemirror_mode": {
    "name": "ipython",
    "version": 3
   },
   "file_extension": ".py",
   "mimetype": "text/x-python",
   "name": "python",
   "nbconvert_exporter": "python",
   "pygments_lexer": "ipython3",
   "version": "3.10.0"
  }
 },
 "nbformat": 4,
 "nbformat_minor": 5
}
